{
 "cells": [
  {
   "cell_type": "code",
   "execution_count": 14,
   "metadata": {},
   "outputs": [],
   "source": [
    "import numpy as np\n",
    "import pandas as pd"
   ]
  },
  {
   "cell_type": "code",
   "execution_count": 60,
   "metadata": {},
   "outputs": [
    {
     "output_type": "execute_result",
     "data": {
      "text/plain": "   state   so2   no2  rspm    spm\n0  Delhi   8.6  16.2   NaN  323.0\n1  Delhi   6.5   9.3   NaN  488.0\n2  Delhi  25.8  10.4   NaN  487.0\n3  Delhi   0.5   2.8   NaN  528.0\n4  Delhi   2.5  12.8   NaN  506.0",
      "text/html": "<div>\n<style scoped>\n    .dataframe tbody tr th:only-of-type {\n        vertical-align: middle;\n    }\n\n    .dataframe tbody tr th {\n        vertical-align: top;\n    }\n\n    .dataframe thead th {\n        text-align: right;\n    }\n</style>\n<table border=\"1\" class=\"dataframe\">\n  <thead>\n    <tr style=\"text-align: right;\">\n      <th></th>\n      <th>state</th>\n      <th>so2</th>\n      <th>no2</th>\n      <th>rspm</th>\n      <th>spm</th>\n    </tr>\n  </thead>\n  <tbody>\n    <tr>\n      <th>0</th>\n      <td>Delhi</td>\n      <td>8.6</td>\n      <td>16.2</td>\n      <td>NaN</td>\n      <td>323.0</td>\n    </tr>\n    <tr>\n      <th>1</th>\n      <td>Delhi</td>\n      <td>6.5</td>\n      <td>9.3</td>\n      <td>NaN</td>\n      <td>488.0</td>\n    </tr>\n    <tr>\n      <th>2</th>\n      <td>Delhi</td>\n      <td>25.8</td>\n      <td>10.4</td>\n      <td>NaN</td>\n      <td>487.0</td>\n    </tr>\n    <tr>\n      <th>3</th>\n      <td>Delhi</td>\n      <td>0.5</td>\n      <td>2.8</td>\n      <td>NaN</td>\n      <td>528.0</td>\n    </tr>\n    <tr>\n      <th>4</th>\n      <td>Delhi</td>\n      <td>2.5</td>\n      <td>12.8</td>\n      <td>NaN</td>\n      <td>506.0</td>\n    </tr>\n  </tbody>\n</table>\n</div>"
     },
     "metadata": {},
     "execution_count": 60
    }
   ],
   "source": [
    "df = pd.read_csv('pollution_dataset.csv')\n",
    "states = ['Delhi', 'Uttarakhand', 'Haryana']\n",
    "df = df[df['state'].isin(states)]\n",
    "# df = df[df['state'] == 'Delhi' or df['state'] == 'Uttarakhand' or df['state'] ==]\n",
    "df.drop_duplicates(inplace=True)\n",
    "drop_col = list(df.columns)\n",
    "drop_col.remove('state')\n",
    "drop_col.remove('rspm')\n",
    "drop_col.remove('spm')\n",
    "drop_col.remove('so2')\n",
    "drop_col.remove('no2')\n",
    "\n",
    "df.drop(columns=drop_col, inplace=True)\n",
    "df.reset_index(drop=True, inplace=True)\n",
    "df.head()"
   ]
  },
  {
   "cell_type": "code",
   "execution_count": 72,
   "metadata": {},
   "outputs": [],
   "source": [
    "df.to_csv('original.csv')"
   ]
  },
  {
   "cell_type": "code",
   "execution_count": 39,
   "metadata": {},
   "outputs": [
    {
     "output_type": "execute_result",
     "data": {
      "text/plain": "(13916, 5)"
     },
     "metadata": {},
     "execution_count": 39
    }
   ],
   "source": [
    "df.shape"
   ]
  },
  {
   "cell_type": "code",
   "execution_count": 40,
   "metadata": {},
   "outputs": [
    {
     "output_type": "execute_result",
     "data": {
      "text/plain": "(4433, 5)"
     },
     "metadata": {},
     "execution_count": 40
    }
   ],
   "source": [
    "test = df.dropna(axis=0, how='any')\n",
    "test.reset_index(drop=True, inplace=True)\n",
    "test.shape"
   ]
  },
  {
   "cell_type": "code",
   "execution_count": 73,
   "metadata": {},
   "outputs": [],
   "source": [
    "test.to_csv('withoutNull.csv')"
   ]
  },
  {
   "cell_type": "code",
   "execution_count": 42,
   "metadata": {},
   "outputs": [
    {
     "output_type": "execute_result",
     "data": {
      "text/plain": "   state   so2   no2   rspm    spm    SOi    NOi       RSPMi    SPMi     AQI\n0  Delhi  11.0  39.0  184.0  405.0  13.75  48.75  217.417085  368.75  368.75\n1  Delhi  12.0  42.0  190.0  429.0  15.00  52.50  220.402010  398.75  398.75\n2  Delhi  14.0  41.0  187.0  304.0  17.50  51.25  218.909548  254.00  254.00\n3  Delhi  13.0  39.0  192.0  323.0  16.25  48.75  221.396985  273.00  273.00\n4  Delhi  12.0  36.0  170.0  325.0  15.00  45.00  210.452261  275.00  275.00",
      "text/html": "<div>\n<style scoped>\n    .dataframe tbody tr th:only-of-type {\n        vertical-align: middle;\n    }\n\n    .dataframe tbody tr th {\n        vertical-align: top;\n    }\n\n    .dataframe thead th {\n        text-align: right;\n    }\n</style>\n<table border=\"1\" class=\"dataframe\">\n  <thead>\n    <tr style=\"text-align: right;\">\n      <th></th>\n      <th>state</th>\n      <th>so2</th>\n      <th>no2</th>\n      <th>rspm</th>\n      <th>spm</th>\n      <th>SOi</th>\n      <th>NOi</th>\n      <th>RSPMi</th>\n      <th>SPMi</th>\n      <th>AQI</th>\n    </tr>\n  </thead>\n  <tbody>\n    <tr>\n      <th>0</th>\n      <td>Delhi</td>\n      <td>11.0</td>\n      <td>39.0</td>\n      <td>184.0</td>\n      <td>405.0</td>\n      <td>13.75</td>\n      <td>48.75</td>\n      <td>217.417085</td>\n      <td>368.75</td>\n      <td>368.75</td>\n    </tr>\n    <tr>\n      <th>1</th>\n      <td>Delhi</td>\n      <td>12.0</td>\n      <td>42.0</td>\n      <td>190.0</td>\n      <td>429.0</td>\n      <td>15.00</td>\n      <td>52.50</td>\n      <td>220.402010</td>\n      <td>398.75</td>\n      <td>398.75</td>\n    </tr>\n    <tr>\n      <th>2</th>\n      <td>Delhi</td>\n      <td>14.0</td>\n      <td>41.0</td>\n      <td>187.0</td>\n      <td>304.0</td>\n      <td>17.50</td>\n      <td>51.25</td>\n      <td>218.909548</td>\n      <td>254.00</td>\n      <td>254.00</td>\n    </tr>\n    <tr>\n      <th>3</th>\n      <td>Delhi</td>\n      <td>13.0</td>\n      <td>39.0</td>\n      <td>192.0</td>\n      <td>323.0</td>\n      <td>16.25</td>\n      <td>48.75</td>\n      <td>221.396985</td>\n      <td>273.00</td>\n      <td>273.00</td>\n    </tr>\n    <tr>\n      <th>4</th>\n      <td>Delhi</td>\n      <td>12.0</td>\n      <td>36.0</td>\n      <td>170.0</td>\n      <td>325.0</td>\n      <td>15.00</td>\n      <td>45.00</td>\n      <td>210.452261</td>\n      <td>275.00</td>\n      <td>275.00</td>\n    </tr>\n  </tbody>\n</table>\n</div>"
     },
     "metadata": {},
     "execution_count": 42
    }
   ],
   "source": [
    "def cal_SOi(so2):\n",
    "    si=0\n",
    "    if (so2<=40):\n",
    "     si= so2*(50/40)\n",
    "    elif (so2>40 and so2<=80):\n",
    "     si= 50+(so2-40)*(50/40)\n",
    "    elif (so2>80 and so2<=380):\n",
    "     si= 100+(so2-80)*(100/300)\n",
    "    elif (so2>380 and so2<=800):\n",
    "     si= 200+(so2-380)*(100/420)\n",
    "    elif (so2>800 and so2<=1600):\n",
    "     si= 300+(so2-800)*(100/800)\n",
    "    elif (so2>1600):\n",
    "     si= 400+(so2-1600)*(100/800)\n",
    "    return si\n",
    "test['SOi']=test['so2'].apply(cal_SOi)\n",
    "\n",
    "def cal_Noi(no2):\n",
    "    ni=0\n",
    "    if(no2<=40):\n",
    "     ni= no2*50/40\n",
    "    elif(no2>40 and no2<=80):\n",
    "     ni= 50+(no2-40)*(50/40)\n",
    "    elif(no2>80 and no2<=180):\n",
    "     ni= 100+(no2-80)*(100/100)\n",
    "    elif(no2>180 and no2<=280):\n",
    "     ni= 200+(no2-180)*(100/100)\n",
    "    elif(no2>280 and no2<=400):\n",
    "     ni= 300+(no2-280)*(100/120)\n",
    "    else:\n",
    "     ni= 400+(no2-400)*(100/120)\n",
    "    return ni\n",
    "test['NOi']=test['no2'].apply(cal_Noi)\n",
    "\n",
    "def cal_RSPMi(rspm):\n",
    "    rpi=0\n",
    "    if(rspm<=100):\n",
    "     rpi = rspm\n",
    "    elif(rspm>=101 and rspm<=150):\n",
    "     rpi= 101+(rspm-101)*((200-101)/(150-101))\n",
    "    elif(rspm>=151 and rspm<=350):\n",
    "     rpi= 201+(rspm-151)*((300-201)/(350-151))\n",
    "    elif(rspm>=351 and rspm<=420):\n",
    "     rpi= 301+(rspm-351)*((400-301)/(420-351))\n",
    "    elif(rspm>420):\n",
    "     rpi= 401+(rspm-420)*((500-401)/(420-351))\n",
    "    return rpi\n",
    "test['RSPMi']=test['rspm'].apply(cal_RSPMi)\n",
    "\n",
    "def cal_SPMi(spm):\n",
    "    spi=0\n",
    "    if(spm<=50):\n",
    "     spi=spm*50/50\n",
    "    elif(spm>50 and spm<=100):\n",
    "     spi=50+(spm-50)*(50/50)\n",
    "    elif(spm>100 and spm<=250):\n",
    "     spi= 100+(spm-100)*(100/150)\n",
    "    elif(spm>250 and spm<=350):\n",
    "     spi=200+(spm-250)*(100/100)\n",
    "    elif(spm>350 and spm<=430):\n",
    "     spi=300+(spm-350)*(100/80)\n",
    "    else:\n",
    "     spi=400+(spm-430)*(100/430)\n",
    "    return spi\n",
    "test['SPMi']=test['spm'].apply(cal_SPMi)\n",
    "\n",
    "def cal_aqi(si,ni,rspmi,spmi):\n",
    "    aqi=0\n",
    "    if(si>ni and si>rspmi and si>spmi):\n",
    "     aqi=si\n",
    "    if(ni>si and ni>rspmi and ni>spmi ):\n",
    "     aqi=ni\n",
    "    if(rspmi>si and rspmi>ni and rspmi>spmi ):\n",
    "     aqi=rspmi\n",
    "    if(spmi>si and spmi>ni and spmi>rspmi):\n",
    "     aqi=spmi\n",
    "    return aqi\n",
    "test['AQI']=test.apply(lambda x:cal_aqi(x['SOi'],x['NOi'],x['RSPMi'],x['SPMi']),axis=1)\n",
    "\n",
    "test.head()"
   ]
  },
  {
   "cell_type": "code",
   "execution_count": 67,
   "metadata": {},
   "outputs": [
    {
     "output_type": "stream",
     "name": "stdout",
     "text": "Imputing row 1/3415 with 2 missing, elapsed time: 2.039\nImputing row 101/3415 with 2 missing, elapsed time: 2.045\nImputing row 201/3415 with 1 missing, elapsed time: 2.051\nImputing row 301/3415 with 1 missing, elapsed time: 2.055\nImputing row 401/3415 with 0 missing, elapsed time: 2.058\nImputing row 501/3415 with 0 missing, elapsed time: 2.058\nImputing row 601/3415 with 0 missing, elapsed time: 2.058\nImputing row 701/3415 with 0 missing, elapsed time: 2.059\nImputing row 801/3415 with 0 missing, elapsed time: 2.059\nImputing row 901/3415 with 2 missing, elapsed time: 2.066\nImputing row 1001/3415 with 2 missing, elapsed time: 2.072\nImputing row 1101/3415 with 0 missing, elapsed time: 2.075\nImputing row 1201/3415 with 0 missing, elapsed time: 2.075\nImputing row 1301/3415 with 0 missing, elapsed time: 2.077\nImputing row 1401/3415 with 0 missing, elapsed time: 2.080\nImputing row 1501/3415 with 0 missing, elapsed time: 2.081\nImputing row 1601/3415 with 4 missing, elapsed time: 2.083\nImputing row 1701/3415 with 0 missing, elapsed time: 2.085\nImputing row 1801/3415 with 0 missing, elapsed time: 2.086\nImputing row 1901/3415 with 1 missing, elapsed time: 2.088\nImputing row 2001/3415 with 1 missing, elapsed time: 2.092\nImputing row 2101/3415 with 1 missing, elapsed time: 2.098\nImputing row 2201/3415 with 1 missing, elapsed time: 2.103\nImputing row 2301/3415 with 1 missing, elapsed time: 2.105\nImputing row 2401/3415 with 1 missing, elapsed time: 2.110\nImputing row 2501/3415 with 1 missing, elapsed time: 2.117\nImputing row 2601/3415 with 1 missing, elapsed time: 2.121\nImputing row 2701/3415 with 1 missing, elapsed time: 2.126\nImputing row 2801/3415 with 1 missing, elapsed time: 2.130\nImputing row 2901/3415 with 1 missing, elapsed time: 2.135\nImputing row 3001/3415 with 1 missing, elapsed time: 2.139\nImputing row 3101/3415 with 1 missing, elapsed time: 2.144\nImputing row 3201/3415 with 1 missing, elapsed time: 2.149\nImputing row 3301/3415 with 1 missing, elapsed time: 2.153\nImputing row 3401/3415 with 2 missing, elapsed time: 2.157\n[KNN] Warning: 356/13660 still missing after imputation, replacing with 0\n"
    },
    {
     "output_type": "execute_result",
     "data": {
      "text/plain": "    so2        no2        rspm         spm\n0  43.2  24.100000   73.356759  330.966334\n1  41.8  24.000000   78.357400  362.720456\n2  45.7  24.400000   84.000045  228.000000\n3  42.8  22.000000   78.648075  364.839576\n4  46.8  32.535293  262.309674  279.876996",
      "text/html": "<div>\n<style scoped>\n    .dataframe tbody tr th:only-of-type {\n        vertical-align: middle;\n    }\n\n    .dataframe tbody tr th {\n        vertical-align: top;\n    }\n\n    .dataframe thead th {\n        text-align: right;\n    }\n</style>\n<table border=\"1\" class=\"dataframe\">\n  <thead>\n    <tr style=\"text-align: right;\">\n      <th></th>\n      <th>so2</th>\n      <th>no2</th>\n      <th>rspm</th>\n      <th>spm</th>\n    </tr>\n  </thead>\n  <tbody>\n    <tr>\n      <th>0</th>\n      <td>43.2</td>\n      <td>24.100000</td>\n      <td>73.356759</td>\n      <td>330.966334</td>\n    </tr>\n    <tr>\n      <th>1</th>\n      <td>41.8</td>\n      <td>24.000000</td>\n      <td>78.357400</td>\n      <td>362.720456</td>\n    </tr>\n    <tr>\n      <th>2</th>\n      <td>45.7</td>\n      <td>24.400000</td>\n      <td>84.000045</td>\n      <td>228.000000</td>\n    </tr>\n    <tr>\n      <th>3</th>\n      <td>42.8</td>\n      <td>22.000000</td>\n      <td>78.648075</td>\n      <td>364.839576</td>\n    </tr>\n    <tr>\n      <th>4</th>\n      <td>46.8</td>\n      <td>32.535293</td>\n      <td>262.309674</td>\n      <td>279.876996</td>\n    </tr>\n  </tbody>\n</table>\n</div>"
     },
     "metadata": {},
     "execution_count": 67
    }
   ],
   "source": [
    "#KNN Imputation\n",
    "from fancyimpute import KNN\n",
    "ds = df[df['state']==states[2]]\n",
    "# ds.head()\n",
    "ds.drop(columns=['state'], inplace=True)\n",
    "# ds.isnull().sum()\n",
    "knn_imputer = KNN()\n",
    "knn_res = knn_imputer.fit_transform(ds)\n",
    "knn_res = pd.DataFrame(knn_res)\n",
    "knn_res.columns = ds.columns\n",
    "knn_res.head()"
   ]
  },
  {
   "cell_type": "code",
   "execution_count": 98,
   "metadata": {},
   "outputs": [
    {
     "output_type": "execute_result",
     "data": {
      "text/plain": "    so2        no2        rspm         spm\n0  43.2  24.100000  252.515978  347.244579\n1  41.8  24.000000  248.022287  344.286054\n2  45.7  24.400000  175.915265  228.000000\n3  42.8  22.000000  250.182195  336.278302\n4  46.8  37.942087  270.185467  419.053661",
      "text/html": "<div>\n<style scoped>\n    .dataframe tbody tr th:only-of-type {\n        vertical-align: middle;\n    }\n\n    .dataframe tbody tr th {\n        vertical-align: top;\n    }\n\n    .dataframe thead th {\n        text-align: right;\n    }\n</style>\n<table border=\"1\" class=\"dataframe\">\n  <thead>\n    <tr style=\"text-align: right;\">\n      <th></th>\n      <th>so2</th>\n      <th>no2</th>\n      <th>rspm</th>\n      <th>spm</th>\n    </tr>\n  </thead>\n  <tbody>\n    <tr>\n      <th>0</th>\n      <td>43.2</td>\n      <td>24.100000</td>\n      <td>252.515978</td>\n      <td>347.244579</td>\n    </tr>\n    <tr>\n      <th>1</th>\n      <td>41.8</td>\n      <td>24.000000</td>\n      <td>248.022287</td>\n      <td>344.286054</td>\n    </tr>\n    <tr>\n      <th>2</th>\n      <td>45.7</td>\n      <td>24.400000</td>\n      <td>175.915265</td>\n      <td>228.000000</td>\n    </tr>\n    <tr>\n      <th>3</th>\n      <td>42.8</td>\n      <td>22.000000</td>\n      <td>250.182195</td>\n      <td>336.278302</td>\n    </tr>\n    <tr>\n      <th>4</th>\n      <td>46.8</td>\n      <td>37.942087</td>\n      <td>270.185467</td>\n      <td>419.053661</td>\n    </tr>\n  </tbody>\n</table>\n</div>"
     },
     "metadata": {},
     "execution_count": 98
    }
   ],
   "source": [
    "from sklearn.experimental import enable_iterative_imputer\n",
    "from sklearn.impute import IterativeImputer\n",
    "\n",
    "ind = 2\n",
    "\n",
    "ds = df[df['state']==states[ind]]\n",
    "# ds.head()\n",
    "ds.drop(columns=['state'], inplace=True)\n",
    "# ds.isnull().sum()\n",
    "\n",
    "MICE_imputer = IterativeImputer()\n",
    "MICE_res = MICE_imputer.fit_transform(ds)\n",
    "MICE_res = pd.DataFrame(MICE_res)\n",
    "MICE_res.columns=ds.columns\n",
    "MICE_res.head()"
   ]
  },
  {
   "cell_type": "code",
   "execution_count": 99,
   "metadata": {},
   "outputs": [
    {
     "output_type": "execute_result",
     "data": {
      "text/plain": "so2     0\nno2     0\nrspm    0\nspm     0\ndtype: int64"
     },
     "metadata": {},
     "execution_count": 99
    }
   ],
   "source": [
    "MICE_res.isnull().sum()"
   ]
  },
  {
   "cell_type": "code",
   "execution_count": 100,
   "metadata": {},
   "outputs": [
    {
     "output_type": "execute_result",
     "data": {
      "text/plain": "so2      281\nno2      407\nrspm     493\nspm     1628\ndtype: int64"
     },
     "metadata": {},
     "execution_count": 100
    }
   ],
   "source": [
    "ds.isnull().sum()"
   ]
  },
  {
   "cell_type": "code",
   "execution_count": 101,
   "metadata": {},
   "outputs": [],
   "source": [
    "MICE_res.to_csv(states[ind] + '_MICE.csv')"
   ]
  },
  {
   "cell_type": "code",
   "execution_count": null,
   "metadata": {},
   "outputs": [],
   "source": []
  }
 ],
 "metadata": {
  "language_info": {
   "name": "python",
   "codemirror_mode": {
    "name": "ipython",
    "version": 3
   },
   "version": "3.7.4-final"
  },
  "orig_nbformat": 2,
  "file_extension": ".py",
  "mimetype": "text/x-python",
  "name": "python",
  "npconvert_exporter": "python",
  "pygments_lexer": "ipython3",
  "version": 3,
  "kernelspec": {
   "name": "python37464bit12ab0d5668504f408ccbccc2f611f02d",
   "display_name": "Python 3.7.4 64-bit"
  }
 },
 "nbformat": 4,
 "nbformat_minor": 2
}